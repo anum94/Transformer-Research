{
 "cells": [
  {
   "cell_type": "code",
   "execution_count": 4,
   "metadata": {},
   "outputs": [],
   "source": [
    "import os\n",
    "import json\n",
    "import openai\n",
    "from ds.supported import load_dataset\n",
    "from metrics.rouge import Rouge\n",
    "import openai\n",
    "import tiktoken\n",
    "from tqdm import tqdm"
   ]
  },
  {
   "cell_type": "code",
   "execution_count": 5,
   "metadata": {},
   "outputs": [],
   "source": [
    "config = {\n",
    "    \"dataset\": \"arxiv\",\n",
    "    \"preview\": False,\n",
    "    \"samples\": \"max\",\n",
    "    \"min_input_size\": 0,\n",
    "    \"max_length\": 4096,\n",
    "    \"max_new_tokens\": 256,\n",
    "    \"batch_size\": 1,\n",
    "    \"model_hf_key\": \"gpt-3.5-turbo-0613\"\n",
    "}\n",
    "\n",
    "\n",
    "dataset = config[\"dataset\"]\n",
    "preview = config[\"preview\"]\n",
    "samples = config[\"samples\"]\n",
    "min_input_size = config[\"min_input_size\"]\n",
    "max_len = config[\"max_length\"]\n",
    "max_new_tokens = config[\"max_new_tokens\"]\n",
    "model = config[\"model_hf_key\"]"
   ]
  },
  {
   "cell_type": "code",
   "execution_count": 6,
   "metadata": {},
   "outputs": [],
   "source": [
    "log_dir = \"results\"\n",
    "exec_path = f\"{model}-{dataset}\"\n",
    "\n",
    "if not os.path.exists(os.path.join(log_dir, exec_path)):\n",
    "    os.mkdir(os.path.join(log_dir, exec_path))\n",
    "outputs_path = os.path.join(log_dir, exec_path, \"log.out\")\n",
    "metrics_path = os.path.join(log_dir, exec_path, \"metrics.json\")\n"
   ]
  },
  {
   "cell_type": "code",
   "execution_count": 7,
   "metadata": {},
   "outputs": [
    {
     "name": "stderr",
     "output_type": "stream",
     "text": [
      "WARNING:datasets.builder:Found cached dataset arxiv-summarization (/home/twigs/.cache/huggingface/datasets/ccdv___arxiv-summarization/document/1.0.0/fa2c9abf4312afb8660ef8e041d576b8e3943ea96ae771bd3cd091b5798e7cc3)\n",
      "100%|██████████| 3/3 [00:00<00:00, 127.32it/s]\n",
      "WARNING:datasets.arrow_dataset:Loading cached processed dataset at /home/twigs/.cache/huggingface/datasets/ccdv___arxiv-summarization/document/1.0.0/fa2c9abf4312afb8660ef8e041d576b8e3943ea96ae771bd3cd091b5798e7cc3/cache-c28792c09a9ba4e7.arrow\n",
      "WARNING:datasets.arrow_dataset:Loading cached processed dataset at /home/twigs/.cache/huggingface/datasets/ccdv___arxiv-summarization/document/1.0.0/fa2c9abf4312afb8660ef8e041d576b8e3943ea96ae771bd3cd091b5798e7cc3/cache-93a0a45230880572.arrow\n",
      "WARNING:datasets.arrow_dataset:Loading cached processed dataset at /home/twigs/.cache/huggingface/datasets/ccdv___arxiv-summarization/document/1.0.0/fa2c9abf4312afb8660ef8e041d576b8e3943ea96ae771bd3cd091b5798e7cc3/cache-ee253f8fbbbccddf.arrow\n"
     ]
    }
   ],
   "source": [
    "# load/process ds\n",
    "dataset = load_dataset(\n",
    "    dataset=dataset,\n",
    "    preview=preview,\n",
    "    samples=samples,\n",
    "    min_input_size=min_input_size,\n",
    ")\n",
    "dtest = dataset.get_split(\"test\")\n"
   ]
  },
  {
   "cell_type": "code",
   "execution_count": 8,
   "metadata": {},
   "outputs": [
    {
     "name": "stderr",
     "output_type": "stream",
     "text": [
      "WARNING:datasets.fingerprint:Parameter 'function'=<function preprocess at 0x7f1e04839e10> of the transform datasets.arrow_dataset.Dataset._map_single couldn't be hashed properly, a random hash was used instead. Make sure your transforms and parameters are serializable with pickle or dill for the dataset fingerprinting and caching to work. If you reuse this transform, the caching mechanism will consider it to be different from the previous calls and recompute everything. This warning is only showed once. Subsequent hashing failures won't be showed.\n",
      "100%|██████████| 6440/6440 [00:41<00:00, 155.89ex/s]\n"
     ]
    }
   ],
   "source": [
    "tok = tiktoken.encoding_for_model(model)\n",
    "\n",
    "tokens_per_message = 4\n",
    "tokens_per_prompt = 3\n",
    "\n",
    "def preprocess(batch):\n",
    "    text = batch[\"text\"]\n",
    "    msg = f\"You are an expert at summarization. Proceed to summarize the following text. {text}\"\n",
    "    enc_msg = tok.encode(msg)\n",
    "    # per openai docs each message <|start|>{role/name}\\n{content}<|end|>\\n\n",
    "    # every reply is primed with <|start|>assistant<|message|>\n",
    "    filtered_msg = enc_msg[\n",
    "        : max_len - max_new_tokens - tokens_per_message - tokens_per_prompt - 1\n",
    "    ]\n",
    "    dec_filtered_msg = tok.decode(filtered_msg)\n",
    "\n",
    "    return {\"messages\": [{\"role\": \"system\", \"content\": dec_filtered_msg}]}\n",
    "\n",
    "\n",
    "parsed_dtest = dtest.map(preprocess)\n"
   ]
  },
  {
   "cell_type": "code",
   "execution_count": 9,
   "metadata": {},
   "outputs": [],
   "source": [
    "openai.api_key = \"sk-\" # fill with key suffix"
   ]
  },
  {
   "cell_type": "code",
   "execution_count": 12,
   "metadata": {},
   "outputs": [
    {
     "name": "stderr",
     "output_type": "stream",
     "text": [
      "  1%|▏         | 86/6440 [08:51<22:41:11, 12.85s/it]"
     ]
    },
    {
     "name": "stdout",
     "output_type": "stream",
     "text": [
      "failed in iteration 85\n"
     ]
    },
    {
     "name": "stderr",
     "output_type": "stream",
     "text": [
      "  8%|▊         | 486/6440 [48:38<23:57:24, 14.49s/it]"
     ]
    },
    {
     "name": "stdout",
     "output_type": "stream",
     "text": [
      "failed in iteration 485\n"
     ]
    },
    {
     "name": "stderr",
     "output_type": "stream",
     "text": [
      "  9%|▊         | 554/6440 [57:42<24:02:02, 14.70s/it]"
     ]
    },
    {
     "name": "stdout",
     "output_type": "stream",
     "text": [
      "failed in iteration 553\n"
     ]
    },
    {
     "name": "stderr",
     "output_type": "stream",
     "text": [
      " 10%|█         | 645/6440 [1:09:14<21:20:14, 13.26s/it]"
     ]
    },
    {
     "name": "stdout",
     "output_type": "stream",
     "text": [
      "failed in iteration 644\n"
     ]
    },
    {
     "name": "stderr",
     "output_type": "stream",
     "text": [
      " 13%|█▎        | 843/6440 [1:31:29<21:23:21, 13.76s/it]"
     ]
    },
    {
     "name": "stdout",
     "output_type": "stream",
     "text": [
      "failed in iteration 842\n"
     ]
    },
    {
     "name": "stderr",
     "output_type": "stream",
     "text": [
      " 23%|██▎       | 1505/6440 [2:44:17<19:09:40, 13.98s/it]"
     ]
    },
    {
     "name": "stdout",
     "output_type": "stream",
     "text": [
      "failed in iteration 1504\n"
     ]
    },
    {
     "name": "stderr",
     "output_type": "stream",
     "text": [
      " 25%|██▍       | 1601/6440 [2:54:59<18:32:33, 13.79s/it]"
     ]
    },
    {
     "name": "stdout",
     "output_type": "stream",
     "text": [
      "failed in iteration 1600\n"
     ]
    },
    {
     "name": "stderr",
     "output_type": "stream",
     "text": [
      " 25%|██▌       | 1627/6440 [2:58:08<18:49:22, 14.08s/it]"
     ]
    },
    {
     "name": "stdout",
     "output_type": "stream",
     "text": [
      "failed in iteration 1626\n"
     ]
    },
    {
     "name": "stderr",
     "output_type": "stream",
     "text": [
      " 27%|██▋       | 1746/6440 [3:11:27<17:30:11, 13.42s/it]"
     ]
    },
    {
     "name": "stdout",
     "output_type": "stream",
     "text": [
      "failed in iteration 1745\n"
     ]
    },
    {
     "name": "stderr",
     "output_type": "stream",
     "text": [
      " 27%|██▋       | 1761/6440 [3:13:31<18:36:08, 14.31s/it]"
     ]
    },
    {
     "name": "stdout",
     "output_type": "stream",
     "text": [
      "failed in iteration 1760\n"
     ]
    },
    {
     "name": "stderr",
     "output_type": "stream",
     "text": [
      " 30%|███       | 1938/6440 [3:32:45<17:52:18, 14.29s/it]"
     ]
    },
    {
     "name": "stdout",
     "output_type": "stream",
     "text": [
      "failed in iteration 1937\n"
     ]
    },
    {
     "name": "stderr",
     "output_type": "stream",
     "text": [
      " 30%|███       | 1957/6440 [3:35:21<16:39:48, 13.38s/it]"
     ]
    },
    {
     "name": "stdout",
     "output_type": "stream",
     "text": [
      "failed in iteration 1956\n"
     ]
    },
    {
     "name": "stderr",
     "output_type": "stream",
     "text": [
      " 34%|███▍      | 2179/6440 [3:59:10<16:33:42, 13.99s/it]"
     ]
    },
    {
     "name": "stdout",
     "output_type": "stream",
     "text": [
      "failed in iteration 2178\n"
     ]
    },
    {
     "name": "stderr",
     "output_type": "stream",
     "text": [
      " 34%|███▍      | 2183/6440 [4:00:01<18:29:14, 15.63s/it]"
     ]
    },
    {
     "name": "stdout",
     "output_type": "stream",
     "text": [
      "failed in iteration 2182\n"
     ]
    },
    {
     "name": "stderr",
     "output_type": "stream",
     "text": [
      " 39%|███▉      | 2518/6440 [4:35:34<14:56:26, 13.71s/it]"
     ]
    },
    {
     "name": "stdout",
     "output_type": "stream",
     "text": [
      "failed in iteration 2517\n"
     ]
    },
    {
     "name": "stderr",
     "output_type": "stream",
     "text": [
      " 44%|████▍     | 2862/6440 [5:09:30<13:04:59, 13.16s/it]"
     ]
    },
    {
     "name": "stdout",
     "output_type": "stream",
     "text": [
      "failed in iteration 2861\n"
     ]
    },
    {
     "name": "stderr",
     "output_type": "stream",
     "text": [
      " 50%|█████     | 3227/6440 [5:44:34<12:11:21, 13.66s/it]"
     ]
    },
    {
     "name": "stdout",
     "output_type": "stream",
     "text": [
      "failed in iteration 3226\n"
     ]
    },
    {
     "name": "stderr",
     "output_type": "stream",
     "text": [
      " 52%|█████▏    | 3318/6440 [5:54:16<11:20:09, 13.07s/it]"
     ]
    },
    {
     "name": "stdout",
     "output_type": "stream",
     "text": [
      "failed in iteration 3317\n"
     ]
    },
    {
     "name": "stderr",
     "output_type": "stream",
     "text": [
      " 52%|█████▏    | 3333/6440 [5:56:12<12:04:45, 14.00s/it]"
     ]
    },
    {
     "name": "stdout",
     "output_type": "stream",
     "text": [
      "failed in iteration 3332\n"
     ]
    },
    {
     "name": "stderr",
     "output_type": "stream",
     "text": [
      " 53%|█████▎    | 3383/6440 [6:00:58<10:54:19, 12.84s/it]"
     ]
    },
    {
     "name": "stdout",
     "output_type": "stream",
     "text": [
      "failed in iteration 3382\n"
     ]
    },
    {
     "name": "stderr",
     "output_type": "stream",
     "text": [
      " 54%|█████▍    | 3497/6440 [6:12:01<10:08:14, 12.40s/it]"
     ]
    },
    {
     "name": "stdout",
     "output_type": "stream",
     "text": [
      "failed in iteration 3496\n"
     ]
    },
    {
     "name": "stderr",
     "output_type": "stream",
     "text": [
      " 61%|██████    | 3941/6440 [6:54:13<9:05:37, 13.10s/it] "
     ]
    },
    {
     "name": "stdout",
     "output_type": "stream",
     "text": [
      "failed in iteration 3940\n"
     ]
    },
    {
     "name": "stderr",
     "output_type": "stream",
     "text": [
      " 67%|██████▋   | 4315/6440 [7:28:32<7:48:28, 13.23s/it]"
     ]
    },
    {
     "name": "stdout",
     "output_type": "stream",
     "text": [
      "failed in iteration 4314\n"
     ]
    },
    {
     "name": "stderr",
     "output_type": "stream",
     "text": [
      " 70%|██████▉   | 4490/6440 [7:45:16<7:10:51, 13.26s/it]"
     ]
    },
    {
     "name": "stdout",
     "output_type": "stream",
     "text": [
      "failed in iteration 4489\n"
     ]
    },
    {
     "name": "stderr",
     "output_type": "stream",
     "text": [
      " 75%|███████▌  | 4845/6440 [8:19:16<5:56:17, 13.40s/it]"
     ]
    },
    {
     "name": "stdout",
     "output_type": "stream",
     "text": [
      "failed in iteration 4844\n"
     ]
    },
    {
     "name": "stderr",
     "output_type": "stream",
     "text": [
      " 75%|███████▌  | 4856/6440 [8:20:41<5:34:43, 12.68s/it]"
     ]
    },
    {
     "name": "stdout",
     "output_type": "stream",
     "text": [
      "failed in iteration 4855\n"
     ]
    },
    {
     "name": "stderr",
     "output_type": "stream",
     "text": [
      " 79%|███████▉  | 5096/6440 [8:43:40<4:47:35, 12.84s/it]"
     ]
    },
    {
     "name": "stdout",
     "output_type": "stream",
     "text": [
      "failed in iteration 5095\n"
     ]
    },
    {
     "name": "stderr",
     "output_type": "stream",
     "text": [
      " 81%|████████▏ | 5247/6440 [8:58:33<4:23:48, 13.27s/it]"
     ]
    },
    {
     "name": "stdout",
     "output_type": "stream",
     "text": [
      "failed in iteration 5246\n"
     ]
    },
    {
     "name": "stderr",
     "output_type": "stream",
     "text": [
      " 82%|████████▏ | 5289/6440 [9:02:58<4:07:58, 12.93s/it]"
     ]
    },
    {
     "name": "stdout",
     "output_type": "stream",
     "text": [
      "failed in iteration 5288\n"
     ]
    },
    {
     "name": "stderr",
     "output_type": "stream",
     "text": [
      " 88%|████████▊ | 5652/6440 [9:36:50<2:49:03, 12.87s/it]"
     ]
    },
    {
     "name": "stdout",
     "output_type": "stream",
     "text": [
      "failed in iteration 5651\n"
     ]
    },
    {
     "name": "stderr",
     "output_type": "stream",
     "text": [
      " 99%|█████████▉| 6366/6440 [10:43:03<15:11, 12.31s/it] "
     ]
    },
    {
     "name": "stdout",
     "output_type": "stream",
     "text": [
      "failed in iteration 6365\n"
     ]
    },
    {
     "name": "stderr",
     "output_type": "stream",
     "text": [
      "100%|██████████| 6440/6440 [10:49:59<00:00,  6.06s/it]\n"
     ]
    }
   ],
   "source": [
    "\n",
    "def generate_summary(sample):\n",
    "    response = openai.ChatCompletion.create(\n",
    "        model=\"gpt-3.5-turbo-0613\",\n",
    "        messages=sample,\n",
    "        max_tokens=max_new_tokens,\n",
    "    )\n",
    "\n",
    "    return response[\"choices\"][0][\"message\"][\"content\"]\n",
    "\n",
    "\n",
    "outputs = []\n",
    "failed = []\n",
    "for idx, sample in enumerate(tqdm(parsed_dtest[\"messages\"])):\n",
    "    try:\n",
    "        outputs.append(generate_summary(sample))\n",
    "    except:\n",
    "        print(f\"failed in iteration {idx}\")\n",
    "        failed.append(idx)\n",
    "        with open(outputs_path, \"w\") as fp:\n",
    "            json.dump(outputs, fp)"
   ]
  },
  {
   "cell_type": "code",
   "execution_count": 13,
   "metadata": {},
   "outputs": [],
   "source": [
    "with open(outputs_path, \"w\") as fp:\n",
    "            json.dump(outputs, fp)"
   ]
  },
  {
   "cell_type": "code",
   "execution_count": 18,
   "metadata": {},
   "outputs": [],
   "source": [
    "failds = parsed_dtest.select(failed)"
   ]
  },
  {
   "cell_type": "code",
   "execution_count": 20,
   "metadata": {},
   "outputs": [
    {
     "name": "stderr",
     "output_type": "stream",
     "text": [
      "100%|██████████| 31/31 [02:44<00:00,  5.30s/it]\n"
     ]
    }
   ],
   "source": [
    "\n",
    "failfail = []\n",
    "for idx, sample in enumerate(tqdm(failds[\"messages\"])):\n",
    "    try:\n",
    "        outputs.insert(failed[idx], generate_summary(sample))\n",
    "    except:\n",
    "        print(idx)\n",
    "        failfail.append(idx)\n",
    "\n"
   ]
  },
  {
   "cell_type": "code",
   "execution_count": 21,
   "metadata": {},
   "outputs": [
    {
     "data": {
      "text/plain": [
       "6440"
      ]
     },
     "execution_count": 21,
     "metadata": {},
     "output_type": "execute_result"
    }
   ],
   "source": [
    "len(outputs)"
   ]
  },
  {
   "cell_type": "code",
   "execution_count": 22,
   "metadata": {},
   "outputs": [],
   "source": [
    "rouge = Rouge()\n",
    "metrics = rouge.compute(predictions=outputs, references=dtest[\"summary\"])"
   ]
  },
  {
   "cell_type": "code",
   "execution_count": 23,
   "metadata": {},
   "outputs": [],
   "source": [
    "\n",
    "with open(metrics_path, \"w\") as fp:\n",
    "    json.dump(metrics, fp)\n",
    "\n",
    "with open(outputs_path, \"w\") as fp:\n",
    "    json.dump(outputs, fp)\n"
   ]
  },
  {
   "cell_type": "code",
   "execution_count": 24,
   "metadata": {},
   "outputs": [
    {
     "data": {
      "text/plain": [
       "{'rouge1': 0.4279752865589931,\n",
       " 'rouge2': 0.1434104083900558,\n",
       " 'rougeL': 0.22396662439703166,\n",
       " 'rougeLsum': 0.32750137915478617}"
      ]
     },
     "execution_count": 24,
     "metadata": {},
     "output_type": "execute_result"
    }
   ],
   "source": [
    "metrics"
   ]
  },
  {
   "cell_type": "code",
   "execution_count": 4,
   "metadata": {},
   "outputs": [
    {
     "data": {
      "text/html": [
       "<div>\n",
       "<style scoped>\n",
       "    .dataframe tbody tr th:only-of-type {\n",
       "        vertical-align: middle;\n",
       "    }\n",
       "\n",
       "    .dataframe tbody tr th {\n",
       "        vertical-align: top;\n",
       "    }\n",
       "\n",
       "    .dataframe thead th {\n",
       "        text-align: right;\n",
       "    }\n",
       "</style>\n",
       "<table border=\"1\" class=\"dataframe\">\n",
       "  <thead>\n",
       "    <tr style=\"text-align: right;\">\n",
       "      <th></th>\n",
       "      <th>Folder</th>\n",
       "      <th>RougeAvg</th>\n",
       "      <th>Rouge1</th>\n",
       "      <th>Rouge2</th>\n",
       "      <th>RougeL</th>\n",
       "      <th>geo_mean</th>\n",
       "    </tr>\n",
       "  </thead>\n",
       "  <tbody>\n",
       "    <tr>\n",
       "      <th>7</th>\n",
       "      <td>baichuan7b-arxiv</td>\n",
       "      <td>0.143309</td>\n",
       "      <td>22.245760</td>\n",
       "      <td>6.945236</td>\n",
       "      <td>13.801589</td>\n",
       "      <td>12.871262</td>\n",
       "    </tr>\n",
       "    <tr>\n",
       "      <th>8</th>\n",
       "      <td>baichuan7b-govreport</td>\n",
       "      <td>0.198462</td>\n",
       "      <td>35.940279</td>\n",
       "      <td>9.205102</td>\n",
       "      <td>14.393246</td>\n",
       "      <td>16.823755</td>\n",
       "    </tr>\n",
       "    <tr>\n",
       "      <th>9</th>\n",
       "      <td>baichuan7b-pubmed</td>\n",
       "      <td>0.106470</td>\n",
       "      <td>18.855206</td>\n",
       "      <td>4.416562</td>\n",
       "      <td>8.669112</td>\n",
       "      <td>8.970777</td>\n",
       "    </tr>\n",
       "    <tr>\n",
       "      <th>11</th>\n",
       "      <td>bart-arxiv</td>\n",
       "      <td>0.204987</td>\n",
       "      <td>34.360302</td>\n",
       "      <td>8.924503</td>\n",
       "      <td>18.211335</td>\n",
       "      <td>17.741661</td>\n",
       "    </tr>\n",
       "    <tr>\n",
       "      <th>10</th>\n",
       "      <td>bart-arxiv-1024-19062023153234</td>\n",
       "      <td>0.074199</td>\n",
       "      <td>15.678481</td>\n",
       "      <td>0.427920</td>\n",
       "      <td>6.153443</td>\n",
       "      <td>3.456167</td>\n",
       "    </tr>\n",
       "    <tr>\n",
       "      <th>13</th>\n",
       "      <td>bart-govreport</td>\n",
       "      <td>0.292944</td>\n",
       "      <td>49.457589</td>\n",
       "      <td>17.999579</td>\n",
       "      <td>20.425909</td>\n",
       "      <td>26.296154</td>\n",
       "    </tr>\n",
       "    <tr>\n",
       "      <th>12</th>\n",
       "      <td>bart-govreport-1024-21062023001839</td>\n",
       "      <td>0.051566</td>\n",
       "      <td>10.654403</td>\n",
       "      <td>0.050640</td>\n",
       "      <td>4.764792</td>\n",
       "      <td>1.369899</td>\n",
       "    </tr>\n",
       "    <tr>\n",
       "      <th>15</th>\n",
       "      <td>bart-pubmed</td>\n",
       "      <td>0.206750</td>\n",
       "      <td>33.985606</td>\n",
       "      <td>9.785639</td>\n",
       "      <td>18.253797</td>\n",
       "      <td>18.242281</td>\n",
       "    </tr>\n",
       "    <tr>\n",
       "      <th>14</th>\n",
       "      <td>bart-pubmed-1024-19062023133026</td>\n",
       "      <td>0.065601</td>\n",
       "      <td>13.722191</td>\n",
       "      <td>0.369774</td>\n",
       "      <td>5.588256</td>\n",
       "      <td>3.049384</td>\n",
       "    </tr>\n",
       "    <tr>\n",
       "      <th>16</th>\n",
       "      <td>bigbirdpegasus-arxiv</td>\n",
       "      <td>0.153142</td>\n",
       "      <td>24.511903</td>\n",
       "      <td>5.606568</td>\n",
       "      <td>15.824010</td>\n",
       "      <td>12.955780</td>\n",
       "    </tr>\n",
       "    <tr>\n",
       "      <th>2</th>\n",
       "      <td>bigbirdpegasus-arxiv-4096-15062023193353</td>\n",
       "      <td>0.287261</td>\n",
       "      <td>43.094759</td>\n",
       "      <td>16.767462</td>\n",
       "      <td>26.316070</td>\n",
       "      <td>26.691374</td>\n",
       "    </tr>\n",
       "    <tr>\n",
       "      <th>17</th>\n",
       "      <td>bigbirdpegasus-govreport</td>\n",
       "      <td>0.169904</td>\n",
       "      <td>27.452293</td>\n",
       "      <td>7.734611</td>\n",
       "      <td>15.784180</td>\n",
       "      <td>14.965103</td>\n",
       "    </tr>\n",
       "    <tr>\n",
       "      <th>3</th>\n",
       "      <td>bigbirdpegasus-govreport-4096-15062023190336</td>\n",
       "      <td>0.312825</td>\n",
       "      <td>48.609938</td>\n",
       "      <td>20.474514</td>\n",
       "      <td>24.763129</td>\n",
       "      <td>29.101457</td>\n",
       "    </tr>\n",
       "    <tr>\n",
       "      <th>19</th>\n",
       "      <td>bigbirdpegasus-pubmed</td>\n",
       "      <td>0.147388</td>\n",
       "      <td>23.572190</td>\n",
       "      <td>5.567840</td>\n",
       "      <td>15.076257</td>\n",
       "      <td>12.554326</td>\n",
       "    </tr>\n",
       "    <tr>\n",
       "      <th>18</th>\n",
       "      <td>bigbirdpegasus-pubmed-4096-17062023183256</td>\n",
       "      <td>0.307623</td>\n",
       "      <td>45.105619</td>\n",
       "      <td>19.670353</td>\n",
       "      <td>27.510969</td>\n",
       "      <td>29.007896</td>\n",
       "    </tr>\n",
       "    <tr>\n",
       "      <th>20</th>\n",
       "      <td>falcon40b-arxiv</td>\n",
       "      <td>0.201543</td>\n",
       "      <td>32.645110</td>\n",
       "      <td>10.317057</td>\n",
       "      <td>17.500770</td>\n",
       "      <td>18.063852</td>\n",
       "    </tr>\n",
       "    <tr>\n",
       "      <th>21</th>\n",
       "      <td>falcon40b-govreport</td>\n",
       "      <td>0.240307</td>\n",
       "      <td>44.894638</td>\n",
       "      <td>10.633007</td>\n",
       "      <td>16.564481</td>\n",
       "      <td>19.922453</td>\n",
       "    </tr>\n",
       "    <tr>\n",
       "      <th>22</th>\n",
       "      <td>falcon40b-pubmed</td>\n",
       "      <td>0.183196</td>\n",
       "      <td>29.677595</td>\n",
       "      <td>8.152585</td>\n",
       "      <td>17.128712</td>\n",
       "      <td>16.062615</td>\n",
       "    </tr>\n",
       "    <tr>\n",
       "      <th>42</th>\n",
       "      <td>falcon7b-arxiv</td>\n",
       "      <td>0.210168</td>\n",
       "      <td>34.397405</td>\n",
       "      <td>10.426390</td>\n",
       "      <td>18.226518</td>\n",
       "      <td>18.697683</td>\n",
       "    </tr>\n",
       "    <tr>\n",
       "      <th>43</th>\n",
       "      <td>falcon7b-govreport</td>\n",
       "      <td>0.142921</td>\n",
       "      <td>27.315407</td>\n",
       "      <td>3.598871</td>\n",
       "      <td>11.961970</td>\n",
       "      <td>10.555016</td>\n",
       "    </tr>\n",
       "    <tr>\n",
       "      <th>44</th>\n",
       "      <td>falcon7b-pubmed</td>\n",
       "      <td>0.214331</td>\n",
       "      <td>36.533152</td>\n",
       "      <td>9.538169</td>\n",
       "      <td>18.227885</td>\n",
       "      <td>18.519510</td>\n",
       "    </tr>\n",
       "    <tr>\n",
       "      <th>23</th>\n",
       "      <td>gpt-3.5-turbo-0613-arxiv</td>\n",
       "      <td>0.265117</td>\n",
       "      <td>42.797529</td>\n",
       "      <td>14.341041</td>\n",
       "      <td>22.396662</td>\n",
       "      <td>23.954892</td>\n",
       "    </tr>\n",
       "    <tr>\n",
       "      <th>4</th>\n",
       "      <td>gpt-3.5-turbo-0613-govreport</td>\n",
       "      <td>0.243041</td>\n",
       "      <td>38.530604</td>\n",
       "      <td>14.876099</td>\n",
       "      <td>19.505503</td>\n",
       "      <td>22.360629</td>\n",
       "    </tr>\n",
       "    <tr>\n",
       "      <th>5</th>\n",
       "      <td>gpt-3.5-turbo-0613-pubmed</td>\n",
       "      <td>0.271691</td>\n",
       "      <td>42.881199</td>\n",
       "      <td>15.188386</td>\n",
       "      <td>23.437612</td>\n",
       "      <td>24.806413</td>\n",
       "    </tr>\n",
       "    <tr>\n",
       "      <th>24</th>\n",
       "      <td>gpt-3.5-turbo-16k-0613-arxiv</td>\n",
       "      <td>0.274923</td>\n",
       "      <td>43.755628</td>\n",
       "      <td>15.296325</td>\n",
       "      <td>23.425087</td>\n",
       "      <td>25.028457</td>\n",
       "    </tr>\n",
       "    <tr>\n",
       "      <th>25</th>\n",
       "      <td>gpt-3.5-turbo-16k-0613-govreport</td>\n",
       "      <td>0.254133</td>\n",
       "      <td>39.932145</td>\n",
       "      <td>16.072615</td>\n",
       "      <td>20.235006</td>\n",
       "      <td>23.505573</td>\n",
       "    </tr>\n",
       "    <tr>\n",
       "      <th>26</th>\n",
       "      <td>gpt-3.5-turbo-16k-0613-pubmed</td>\n",
       "      <td>0.276994</td>\n",
       "      <td>43.340749</td>\n",
       "      <td>15.812222</td>\n",
       "      <td>23.945277</td>\n",
       "      <td>25.411856</td>\n",
       "    </tr>\n",
       "    <tr>\n",
       "      <th>27</th>\n",
       "      <td>llama13b-arxiv</td>\n",
       "      <td>0.220097</td>\n",
       "      <td>34.567648</td>\n",
       "      <td>11.144006</td>\n",
       "      <td>20.317481</td>\n",
       "      <td>19.854563</td>\n",
       "    </tr>\n",
       "    <tr>\n",
       "      <th>28</th>\n",
       "      <td>llama13b-govreport</td>\n",
       "      <td>0.165220</td>\n",
       "      <td>31.423464</td>\n",
       "      <td>6.157446</td>\n",
       "      <td>11.984944</td>\n",
       "      <td>13.236207</td>\n",
       "    </tr>\n",
       "    <tr>\n",
       "      <th>29</th>\n",
       "      <td>llama13b-pubmed</td>\n",
       "      <td>0.121516</td>\n",
       "      <td>21.308817</td>\n",
       "      <td>4.785109</td>\n",
       "      <td>10.360841</td>\n",
       "      <td>10.184711</td>\n",
       "    </tr>\n",
       "    <tr>\n",
       "      <th>30</th>\n",
       "      <td>llama7b-arxiv</td>\n",
       "      <td>0.074423</td>\n",
       "      <td>13.021206</td>\n",
       "      <td>0.556461</td>\n",
       "      <td>8.749261</td>\n",
       "      <td>3.987362</td>\n",
       "    </tr>\n",
       "    <tr>\n",
       "      <th>31</th>\n",
       "      <td>llama7b-govreport</td>\n",
       "      <td>0.079583</td>\n",
       "      <td>14.350332</td>\n",
       "      <td>1.432759</td>\n",
       "      <td>8.091678</td>\n",
       "      <td>5.499940</td>\n",
       "    </tr>\n",
       "    <tr>\n",
       "      <th>32</th>\n",
       "      <td>llama7b-pubmed</td>\n",
       "      <td>0.055016</td>\n",
       "      <td>9.454245</td>\n",
       "      <td>0.554224</td>\n",
       "      <td>6.496363</td>\n",
       "      <td>3.240865</td>\n",
       "    </tr>\n",
       "    <tr>\n",
       "      <th>34</th>\n",
       "      <td>pegasusx-arxiv</td>\n",
       "      <td>0.038973</td>\n",
       "      <td>5.772872</td>\n",
       "      <td>0.854421</td>\n",
       "      <td>5.064577</td>\n",
       "      <td>2.923271</td>\n",
       "    </tr>\n",
       "    <tr>\n",
       "      <th>0</th>\n",
       "      <td>pegasusx-arxiv-4096-12062023155841</td>\n",
       "      <td>0.301236</td>\n",
       "      <td>45.050677</td>\n",
       "      <td>18.141709</td>\n",
       "      <td>27.178345</td>\n",
       "      <td>28.110431</td>\n",
       "    </tr>\n",
       "    <tr>\n",
       "      <th>33</th>\n",
       "      <td>pegasusx-arxiv-8192-17062023185926</td>\n",
       "      <td>0.313786</td>\n",
       "      <td>46.484540</td>\n",
       "      <td>19.422305</td>\n",
       "      <td>28.228853</td>\n",
       "      <td>29.428458</td>\n",
       "    </tr>\n",
       "    <tr>\n",
       "      <th>36</th>\n",
       "      <td>pegasusx-govreport</td>\n",
       "      <td>0.043403</td>\n",
       "      <td>6.892567</td>\n",
       "      <td>0.855391</td>\n",
       "      <td>5.273092</td>\n",
       "      <td>3.144394</td>\n",
       "    </tr>\n",
       "    <tr>\n",
       "      <th>6</th>\n",
       "      <td>pegasusx-govreport-4096-15062023183547</td>\n",
       "      <td>0.342547</td>\n",
       "      <td>52.907414</td>\n",
       "      <td>23.301975</td>\n",
       "      <td>26.554830</td>\n",
       "      <td>31.990247</td>\n",
       "    </tr>\n",
       "    <tr>\n",
       "      <th>35</th>\n",
       "      <td>pegasusx-govreport-8192-17062023195045</td>\n",
       "      <td>0.363505</td>\n",
       "      <td>55.545951</td>\n",
       "      <td>25.452766</td>\n",
       "      <td>28.052759</td>\n",
       "      <td>34.102613</td>\n",
       "    </tr>\n",
       "    <tr>\n",
       "      <th>38</th>\n",
       "      <td>pegasusx-pubmed</td>\n",
       "      <td>0.017784</td>\n",
       "      <td>2.671150</td>\n",
       "      <td>0.228901</td>\n",
       "      <td>2.435050</td>\n",
       "      <td>1.141873</td>\n",
       "    </tr>\n",
       "    <tr>\n",
       "      <th>1</th>\n",
       "      <td>pegasusx-pubmed-4096-12062023145646</td>\n",
       "      <td>0.305201</td>\n",
       "      <td>44.770126</td>\n",
       "      <td>19.381340</td>\n",
       "      <td>27.408686</td>\n",
       "      <td>28.757654</td>\n",
       "    </tr>\n",
       "    <tr>\n",
       "      <th>37</th>\n",
       "      <td>pegasusx-pubmed-8192-17062023204832</td>\n",
       "      <td>0.327736</td>\n",
       "      <td>46.950238</td>\n",
       "      <td>21.999877</td>\n",
       "      <td>29.370560</td>\n",
       "      <td>31.188184</td>\n",
       "    </tr>\n",
       "    <tr>\n",
       "      <th>39</th>\n",
       "      <td>vicuna13b-arxiv</td>\n",
       "      <td>0.258966</td>\n",
       "      <td>39.240875</td>\n",
       "      <td>15.769604</td>\n",
       "      <td>22.679441</td>\n",
       "      <td>24.121109</td>\n",
       "    </tr>\n",
       "    <tr>\n",
       "      <th>40</th>\n",
       "      <td>vicuna13b-govreport</td>\n",
       "      <td>0.183105</td>\n",
       "      <td>31.193158</td>\n",
       "      <td>8.677073</td>\n",
       "      <td>15.061285</td>\n",
       "      <td>15.974657</td>\n",
       "    </tr>\n",
       "    <tr>\n",
       "      <th>41</th>\n",
       "      <td>vicuna13b-pubmed</td>\n",
       "      <td>0.185957</td>\n",
       "      <td>30.475887</td>\n",
       "      <td>9.025234</td>\n",
       "      <td>16.285855</td>\n",
       "      <td>16.484475</td>\n",
       "    </tr>\n",
       "  </tbody>\n",
       "</table>\n",
       "</div>"
      ],
      "text/plain": [
       "                                          Folder  RougeAvg     Rouge1  \\\n",
       "7                               baichuan7b-arxiv  0.143309  22.245760   \n",
       "8                           baichuan7b-govreport  0.198462  35.940279   \n",
       "9                              baichuan7b-pubmed  0.106470  18.855206   \n",
       "11                                    bart-arxiv  0.204987  34.360302   \n",
       "10                bart-arxiv-1024-19062023153234  0.074199  15.678481   \n",
       "13                                bart-govreport  0.292944  49.457589   \n",
       "12            bart-govreport-1024-21062023001839  0.051566  10.654403   \n",
       "15                                   bart-pubmed  0.206750  33.985606   \n",
       "14               bart-pubmed-1024-19062023133026  0.065601  13.722191   \n",
       "16                          bigbirdpegasus-arxiv  0.153142  24.511903   \n",
       "2       bigbirdpegasus-arxiv-4096-15062023193353  0.287261  43.094759   \n",
       "17                      bigbirdpegasus-govreport  0.169904  27.452293   \n",
       "3   bigbirdpegasus-govreport-4096-15062023190336  0.312825  48.609938   \n",
       "19                         bigbirdpegasus-pubmed  0.147388  23.572190   \n",
       "18     bigbirdpegasus-pubmed-4096-17062023183256  0.307623  45.105619   \n",
       "20                               falcon40b-arxiv  0.201543  32.645110   \n",
       "21                           falcon40b-govreport  0.240307  44.894638   \n",
       "22                              falcon40b-pubmed  0.183196  29.677595   \n",
       "42                                falcon7b-arxiv  0.210168  34.397405   \n",
       "43                            falcon7b-govreport  0.142921  27.315407   \n",
       "44                               falcon7b-pubmed  0.214331  36.533152   \n",
       "23                      gpt-3.5-turbo-0613-arxiv  0.265117  42.797529   \n",
       "4                   gpt-3.5-turbo-0613-govreport  0.243041  38.530604   \n",
       "5                      gpt-3.5-turbo-0613-pubmed  0.271691  42.881199   \n",
       "24                  gpt-3.5-turbo-16k-0613-arxiv  0.274923  43.755628   \n",
       "25              gpt-3.5-turbo-16k-0613-govreport  0.254133  39.932145   \n",
       "26                 gpt-3.5-turbo-16k-0613-pubmed  0.276994  43.340749   \n",
       "27                                llama13b-arxiv  0.220097  34.567648   \n",
       "28                            llama13b-govreport  0.165220  31.423464   \n",
       "29                               llama13b-pubmed  0.121516  21.308817   \n",
       "30                                 llama7b-arxiv  0.074423  13.021206   \n",
       "31                             llama7b-govreport  0.079583  14.350332   \n",
       "32                                llama7b-pubmed  0.055016   9.454245   \n",
       "34                                pegasusx-arxiv  0.038973   5.772872   \n",
       "0             pegasusx-arxiv-4096-12062023155841  0.301236  45.050677   \n",
       "33            pegasusx-arxiv-8192-17062023185926  0.313786  46.484540   \n",
       "36                            pegasusx-govreport  0.043403   6.892567   \n",
       "6         pegasusx-govreport-4096-15062023183547  0.342547  52.907414   \n",
       "35        pegasusx-govreport-8192-17062023195045  0.363505  55.545951   \n",
       "38                               pegasusx-pubmed  0.017784   2.671150   \n",
       "1            pegasusx-pubmed-4096-12062023145646  0.305201  44.770126   \n",
       "37           pegasusx-pubmed-8192-17062023204832  0.327736  46.950238   \n",
       "39                               vicuna13b-arxiv  0.258966  39.240875   \n",
       "40                           vicuna13b-govreport  0.183105  31.193158   \n",
       "41                              vicuna13b-pubmed  0.185957  30.475887   \n",
       "\n",
       "       Rouge2     RougeL   geo_mean  \n",
       "7    6.945236  13.801589  12.871262  \n",
       "8    9.205102  14.393246  16.823755  \n",
       "9    4.416562   8.669112   8.970777  \n",
       "11   8.924503  18.211335  17.741661  \n",
       "10   0.427920   6.153443   3.456167  \n",
       "13  17.999579  20.425909  26.296154  \n",
       "12   0.050640   4.764792   1.369899  \n",
       "15   9.785639  18.253797  18.242281  \n",
       "14   0.369774   5.588256   3.049384  \n",
       "16   5.606568  15.824010  12.955780  \n",
       "2   16.767462  26.316070  26.691374  \n",
       "17   7.734611  15.784180  14.965103  \n",
       "3   20.474514  24.763129  29.101457  \n",
       "19   5.567840  15.076257  12.554326  \n",
       "18  19.670353  27.510969  29.007896  \n",
       "20  10.317057  17.500770  18.063852  \n",
       "21  10.633007  16.564481  19.922453  \n",
       "22   8.152585  17.128712  16.062615  \n",
       "42  10.426390  18.226518  18.697683  \n",
       "43   3.598871  11.961970  10.555016  \n",
       "44   9.538169  18.227885  18.519510  \n",
       "23  14.341041  22.396662  23.954892  \n",
       "4   14.876099  19.505503  22.360629  \n",
       "5   15.188386  23.437612  24.806413  \n",
       "24  15.296325  23.425087  25.028457  \n",
       "25  16.072615  20.235006  23.505573  \n",
       "26  15.812222  23.945277  25.411856  \n",
       "27  11.144006  20.317481  19.854563  \n",
       "28   6.157446  11.984944  13.236207  \n",
       "29   4.785109  10.360841  10.184711  \n",
       "30   0.556461   8.749261   3.987362  \n",
       "31   1.432759   8.091678   5.499940  \n",
       "32   0.554224   6.496363   3.240865  \n",
       "34   0.854421   5.064577   2.923271  \n",
       "0   18.141709  27.178345  28.110431  \n",
       "33  19.422305  28.228853  29.428458  \n",
       "36   0.855391   5.273092   3.144394  \n",
       "6   23.301975  26.554830  31.990247  \n",
       "35  25.452766  28.052759  34.102613  \n",
       "38   0.228901   2.435050   1.141873  \n",
       "1   19.381340  27.408686  28.757654  \n",
       "37  21.999877  29.370560  31.188184  \n",
       "39  15.769604  22.679441  24.121109  \n",
       "40   8.677073  15.061285  15.974657  \n",
       "41   9.025234  16.285855  16.484475  "
      ]
     },
     "execution_count": 4,
     "metadata": {},
     "output_type": "execute_result"
    }
   ],
   "source": [
    "import pandas as pd\n",
    "\n",
    "df = pd.read_excel(\"results/result.xlsx\")\n",
    "\n",
    "import numpy as np\n",
    "\n",
    "def geo_mean(iterable):\n",
    "    a = np.array(iterable)\n",
    "    return a.prod()**(1.0/len(a))*100\n",
    "\n",
    "\n",
    "df['geo_mean'] = df[['Rouge1','Rouge2','RougeL']].agg(geo_mean, 1)\n",
    "df['Rouge1'] = df['Rouge1']*100\n",
    "df['Rouge2'] = df['Rouge2']*100\n",
    "df['RougeL'] = df['RougeL']*100\n",
    "\n",
    "df.sort_values(by=['Folder'])"
   ]
  },
  {
   "cell_type": "code",
   "execution_count": null,
   "metadata": {},
   "outputs": [],
   "source": []
  }
 ],
 "metadata": {
  "kernelspec": {
   "display_name": "xformer",
   "language": "python",
   "name": "python3"
  },
  "language_info": {
   "codemirror_mode": {
    "name": "ipython",
    "version": 3
   },
   "file_extension": ".py",
   "mimetype": "text/x-python",
   "name": "python",
   "nbconvert_exporter": "python",
   "pygments_lexer": "ipython3",
   "version": "3.9.15"
  },
  "orig_nbformat": 4
 },
 "nbformat": 4,
 "nbformat_minor": 2
}
